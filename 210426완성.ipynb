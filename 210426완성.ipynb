{
  "nbformat": 4,
  "nbformat_minor": 0,
  "metadata": {
    "colab": {
      "name": "210426완성.ipynb",
      "provenance": [],
      "collapsed_sections": [],
      "authorship_tag": "ABX9TyOD2bAH0B5ferbEfij2PxEl",
      "include_colab_link": true
    },
    "kernelspec": {
      "name": "python3",
      "display_name": "Python 3"
    },
    "language_info": {
      "name": "python"
    }
  },
  "cells": [
    {
      "cell_type": "markdown",
      "metadata": {
        "id": "view-in-github",
        "colab_type": "text"
      },
      "source": [
        "<a href=\"https://colab.research.google.com/github/tnsmdwndehr/class2021Spring/blob/main/210426%EC%99%84%EC%84%B1.ipynb\" target=\"_parent\"><img src=\"https://colab.research.google.com/assets/colab-badge.svg\" alt=\"Open In Colab\"/></a>"
      ]
    },
    {
      "cell_type": "code",
      "metadata": {
        "id": "F3gsi4pd6snF"
      },
      "source": [
        "%matplotlib inline\n",
        "from matplotlib import pyplot as plt\n",
        "import IPython.display as ipd\n",
        "import numpy as np\n",
        "from scipy.signal import lfilter"
      ],
      "execution_count": null,
      "outputs": []
    },
    {
      "cell_type": "code",
      "metadata": {
        "id": "xL-LRtur6vAr"
      },
      "source": [
        "amp = 1          # range [0.0, 1.0]\n",
        "sr = 10000       # sampling rate, Hz\n",
        "dur = 0.5        # in seconds\n",
        "freq = 100.0     # sine frequency, Hz"
      ],
      "execution_count": null,
      "outputs": []
    },
    {
      "cell_type": "code",
      "metadata": {
        "id": "jzqwCwjK6wdp"
      },
      "source": [
        "t = np.arange(1, sr * dur+1)/sr\n",
        "theta = t * 2*np.pi * freq\n",
        "s = np.sin(theta)"
      ],
      "execution_count": null,
      "outputs": []
    },
    {
      "cell_type": "code",
      "metadata": {
        "id": "IbPabqS56xot"
      },
      "source": [
        "def phasor(amp,sr,dur,freq):\n",
        "  return s, theta, t"
      ],
      "execution_count": null,
      "outputs": []
    },
    {
      "cell_type": "code",
      "metadata": {
        "id": "ucH4OmjY6x1d"
      },
      "source": [
        "phasor(1,10000,0.5,100.0)"
      ],
      "execution_count": null,
      "outputs": []
    },
    {
      "cell_type": "code",
      "metadata": {
        "id": "F6-6Z5B_64s1"
      },
      "source": [
        "phasor(1,10000,0.5,100.0)"
      ],
      "execution_count": null,
      "outputs": []
    },
    {
      "cell_type": "code",
      "metadata": {
        "id": "BCnx8V3S65ar"
      },
      "source": [
        "phasor(1,10000,0.5,100.0)"
      ],
      "execution_count": null,
      "outputs": []
    },
    {
      "cell_type": "code",
      "metadata": {
        "id": "1R_eA2tu6_yO"
      },
      "source": [
        "phasor(1,10000,0.5,100.0)"
      ],
      "execution_count": null,
      "outputs": []
    },
    {
      "cell_type": "code",
      "metadata": {
        "id": "hvX2FeLD6_0z"
      },
      "source": [
        ""
      ],
      "execution_count": null,
      "outputs": []
    }
  ]
}