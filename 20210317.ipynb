{
  "nbformat": 4,
  "nbformat_minor": 0,
  "metadata": {
    "colab": {
      "name": "20210317.ipynb",
      "provenance": [],
      "authorship_tag": "ABX9TyM9La0/NqOY7G4enQN9u0DY",
      "include_colab_link": true
    },
    "kernelspec": {
      "name": "python3",
      "display_name": "Python 3"
    }
  },
  "cells": [
    {
      "cell_type": "markdown",
      "metadata": {
        "id": "view-in-github",
        "colab_type": "text"
      },
      "source": [
        "<a href=\"https://colab.research.google.com/github/tnsmdwndehr/class2021Spring/blob/main/20210317.ipynb\" target=\"_parent\"><img src=\"https://colab.research.google.com/assets/colab-badge.svg\" alt=\"Open In Colab\"/></a>"
      ]
    },
    {
      "cell_type": "code",
      "metadata": {
        "colab": {
          "base_uri": "https://localhost:8080/"
        },
        "id": "U71XKm2Fv_ek",
        "outputId": "48a5dc04-74d3-476e-8ee2-580bfd453611"
      },
      "source": [
        "for i in range(1,4):\r\n",
        "    for j in range(5,8):\r\n",
        "        print(i*j)"
      ],
      "execution_count": 23,
      "outputs": [
        {
          "output_type": "stream",
          "text": [
            "5\n",
            "6\n",
            "7\n",
            "10\n",
            "12\n",
            "14\n",
            "15\n",
            "18\n",
            "21\n"
          ],
          "name": "stdout"
        }
      ]
    },
    {
      "cell_type": "code",
      "metadata": {
        "colab": {
          "base_uri": "https://localhost:8080/"
        },
        "id": "jkpgY4HHwDIl",
        "outputId": "015ad04b-a04a-4bd2-f24d-3862c218ccdf"
      },
      "source": [
        "for i in range(1,4):\r\n",
        "    for j in range(5,8):\r\n",
        "      if j>=6:\r\n",
        "          print(i*j)"
      ],
      "execution_count": 24,
      "outputs": [
        {
          "output_type": "stream",
          "text": [
            "6\n",
            "7\n",
            "12\n",
            "14\n",
            "18\n",
            "21\n"
          ],
          "name": "stdout"
        }
      ]
    },
    {
      "cell_type": "code",
      "metadata": {
        "colab": {
          "base_uri": "https://localhost:8080/"
        },
        "id": "9qFRO5vWwcqY",
        "outputId": "aaf1241c-2fd3-4824-cbbe-4cf88e443754"
      },
      "source": [
        "a=['aaa','bbbb','ccccc','ddddd']\r\n",
        "b=[i for i in a if len(i)>=4]\r\n",
        "b"
      ],
      "execution_count": 26,
      "outputs": [
        {
          "output_type": "execute_result",
          "data": {
            "text/plain": [
              "['bbbb', 'ccccc', 'ddddd']"
            ]
          },
          "metadata": {
            "tags": []
          },
          "execution_count": 26
        }
      ]
    }
  ]
}