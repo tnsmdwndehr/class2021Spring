{
  "nbformat": 4,
  "nbformat_minor": 0,
  "metadata": {
    "colab": {
      "name": "20210331.ipynb",
      "provenance": [],
      "toc_visible": true,
      "authorship_tag": "ABX9TyPgMaEzqLTnMIFI+3r2yHiA",
      "include_colab_link": true
    },
    "kernelspec": {
      "name": "python3",
      "display_name": "Python 3"
    },
    "language_info": {
      "name": "python"
    }
  },
  "cells": [
    {
      "cell_type": "markdown",
      "metadata": {
        "id": "view-in-github",
        "colab_type": "text"
      },
      "source": [
        "<a href=\"https://colab.research.google.com/github/tnsmdwndehr/class2021Spring/blob/main/20210331.ipynb\" target=\"_parent\"><img src=\"https://colab.research.google.com/assets/colab-badge.svg\" alt=\"Open In Colab\"/></a>"
      ]
    },
    {
      "cell_type": "markdown",
      "metadata": {
        "id": "a4RhWHbp7s_Y"
      },
      "source": [
        "#아\n",
        "Pitch : 95.38Hz\n",
        "\n",
        "Intensity : 77.51dB\n",
        "\n",
        "Duration : 0.419905sec\n",
        "\n",
        "Formant : 772.7Hz, 1066Hz\n",
        "\n",
        "#애\n",
        "Pitch : 94.94Hz\n",
        "\n",
        "Intensity : 72.48dB\n",
        "\n",
        "Duration : 0.253896sec\n",
        "\n",
        "Formant : 530.6Hz, 1907Hz"
      ]
    },
    {
      "cell_type": "code",
      "metadata": {
        "id": "yMsW200Q73SN"
      },
      "source": [
        ""
      ],
      "execution_count": null,
      "outputs": []
    }
  ]
}