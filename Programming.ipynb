{
  "nbformat": 4,
  "nbformat_minor": 0,
  "metadata": {
    "colab": {
      "name": "Programming.ipynb",
      "provenance": [],
      "authorship_tag": "ABX9TyMyJck1VtvMom4W9+HJaMgJ",
      "include_colab_link": true
    },
    "kernelspec": {
      "name": "python3",
      "display_name": "Python 3"
    }
  },
  "cells": [
    {
      "cell_type": "markdown",
      "metadata": {
        "id": "view-in-github",
        "colab_type": "text"
      },
      "source": [
        "<a href=\"https://colab.research.google.com/github/tnsmdwndehr/class2021Spring/blob/main/Programming.ipynb\" target=\"_parent\"><img src=\"https://colab.research.google.com/assets/colab-badge.svg\" alt=\"Open In Colab\"/></a>"
      ]
    },
    {
      "cell_type": "code",
      "metadata": {
        "id": "7RAi5QKGpD1Q"
      },
      "source": [
        ""
      ],
      "execution_count": null,
      "outputs": []
    },
    {
      "cell_type": "markdown",
      "metadata": {
        "id": "EG5ABPNtp5rg"
      },
      "source": [
        "# 3월 10일\r\n",
        "\r\n",
        "##변수(variable)\r\n",
        "a(변수)=1(내용)\r\n",
        "\r\n",
        "##제어문\r\n",
        "문법 = 제어문\r\n",
        "1. 반복 : for\r\n",
        "2. 조건 : if\r\n",
        "\r\n",
        "##함수\r\n",
        "입출력관계 - 입력받은 것을 변화시켜서 출력함\r\n",
        "\r\n",
        "\r\n",
        "\r\n"
      ]
    },
    {
      "cell_type": "markdown",
      "metadata": {
        "id": "0F0nqryRpEjk"
      },
      "source": [
        ""
      ]
    }
  ]
}